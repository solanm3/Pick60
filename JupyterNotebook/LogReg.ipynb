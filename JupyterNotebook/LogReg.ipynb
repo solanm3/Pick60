{
 "cells": [
  {
   "cell_type": "code",
   "execution_count": 2,
   "metadata": {},
   "outputs": [],
   "source": [
    "import warnings"
   ]
  },
  {
   "cell_type": "code",
   "execution_count": 6,
   "metadata": {},
   "outputs": [],
   "source": [
    "import pandas "
   ]
  },
  {
   "cell_type": "code",
   "execution_count": 7,
   "metadata": {},
   "outputs": [],
   "source": [
    "import numpy"
   ]
  },
  {
   "cell_type": "code",
   "execution_count": 8,
   "metadata": {},
   "outputs": [],
   "source": [
    "import pandas as pd"
   ]
  },
  {
   "cell_type": "code",
   "execution_count": 9,
   "metadata": {},
   "outputs": [],
   "source": [
    "import numpy as np"
   ]
  },
  {
   "cell_type": "code",
   "execution_count": 10,
   "metadata": {},
   "outputs": [],
   "source": [
    "df = pandas.read_csv('NFL_diff.csv')"
   ]
  },
  {
   "cell_type": "code",
   "execution_count": 12,
   "metadata": {},
   "outputs": [],
   "source": [
    "import statsmodels.api as sm"
   ]
  },
  {
   "cell_type": "code",
   "execution_count": 14,
   "metadata": {},
   "outputs": [],
   "source": [
    "import os\n",
    "\n",
    "os.system('clear')\n",
    "\n",
    "import pandas as pd\n",
    "import datetime\n",
    "import numpy as np\n",
    "from scipy import stats\n",
    "\n",
    "import statsmodels.formula.api as smf\n",
    "import statsmodels.stats.api as sms"
   ]
  },
  {
   "cell_type": "code",
   "execution_count": 16,
   "metadata": {},
   "outputs": [],
   "source": [
    "from sklearn import preprocessing, model_selection, svm, linear_model\n",
    "from sklearn.feature_selection import RFE, RFECV\n"
   ]
  },
  {
   "cell_type": "code",
   "execution_count": 17,
   "metadata": {},
   "outputs": [],
   "source": [
    "import matplotlib.pyplot as plt\n",
    "from matplotlib import cm\n",
    "import seaborn as sns"
   ]
  },
  {
   "cell_type": "code",
   "execution_count": 29,
   "metadata": {},
   "outputs": [],
   "source": [
    "\n",
    "\n",
    "from time import time\n"
   ]
  },
  {
   "cell_type": "code",
   "execution_count": 31,
   "metadata": {},
   "outputs": [],
   "source": [
    "def input():\n",
    "\traw_input('press enter to continue...')\n",
    "\n",
    "\"\"\" This prints the full dataframe instead of just the top and bottom \"\"\"\n",
    "def print_full(x):\n",
    "\tpd.set_option('display.max_rows', len(x))\n",
    "\tprint(x)\n",
    "\tpd.reset_option('display.max_rows')"
   ]
  },
  {
   "cell_type": "code",
   "execution_count": 32,
   "metadata": {},
   "outputs": [],
   "source": [
    "def spread_conversion(x):\n",
    "\t\"\"\"\n",
    "\thttp://www.bettingtalk.com/win-probability-percentage-point-spread-nfl-nba/\n",
    "\t\"\"\"\n",
    "\n",
    "\thome_dog = False\n",
    "\tif x < 0.5:\n",
    "\t\tx = 1.0 - x\n",
    "\t\thome_dog = True\n",
    "\n",
    "\tif x < .513:\n",
    "\t\treturn_val = -0.5\n",
    "\telif x < .525:\n",
    "\t\treturn_val = -1\n",
    "\telif x < .535:\n",
    "\t\treturn_val = -1.5\n",
    "\telif x < .545:\n",
    "\t\treturn_val = -2\n",
    "\telif x < .594:\n",
    "\t\treturn_val = -2.5\n",
    "\telif x < .643:\n",
    "\t\treturn_val = -3\n",
    "\telif x < .658:\n",
    "\t\treturn_val = -3.5\n",
    "\telif x < .673:\n",
    "\t\treturn_val = -4\n",
    "\telif x < .681:\n",
    "\t\treturn_val = -4.5\n",
    "\telif x < .69:\n",
    "\t\treturn_val = -5\n",
    "\telif x < .707:\n",
    "\t\treturn_val = -5.5\n",
    "\telif x < .724:\n",
    "\t\treturn_val = -6\n",
    "\telif x < .752:\n",
    "\t\treturn_val = -6.5\n",
    "\telif x < .781:\n",
    "\t\treturn_val = -7\n",
    "\telif x < .791:\n",
    "\t\treturn_val = -7.5\n",
    "\telif x < .802:\n",
    "\t\treturn_val = -8\n",
    "\telif x < .807:\n",
    "\t\treturn_val = -8.5\n",
    "\telif x < .811:\n",
    "\t\treturn_val = -9\n",
    "\telif x < .836:\n",
    "\t\treturn_val = -9.5\n",
    "\telif x < .86:\n",
    "\t\treturn_val = -10\n",
    "\telif x < .871:\n",
    "\t\treturn_val = -10.5\n",
    "\telif x < .882:\n",
    "\t\treturn_val = -11\n",
    "\telif x < .885:\n",
    "\t\treturn_val = -11.5\n",
    "\telif x < .887:\n",
    "\t\treturn_val = -12\n",
    "\telif x < .893:\n",
    "\t\treturn_val = -12.5\n",
    "\telif x < .9:\n",
    "\t\treturn_val = -13\n",
    "\telif x < .924:\n",
    "\t\treturn_val = -13.5\n",
    "\telif x < .949:\n",
    "\t\treturn_val = -14\n",
    "\telif x < .956:\n",
    "\t\treturn_val = -14.5\n",
    "\telif x < .963:\n",
    "\t\treturn_val = -15\n",
    "\telif x < .981:\n",
    "\t\treturn_val = -15.5\n",
    "\telif x < .998:\n",
    "\t\treturn_val = -16\n",
    "\telse:\n",
    "\t\treturn_val = -16.5\n",
    "\n",
    "\tif home_dog == True:\n",
    "\t\treturn float(-return_val)\n",
    "\telse:\n",
    "\t\treturn float(return_val)\n",
    "\n"
   ]
  },
  {
   "cell_type": "code",
   "execution_count": 35,
   "metadata": {},
   "outputs": [
    {
     "data": {
      "text/plain": [
       "Index(['Unnamed: 0', 'pass_diff', 'rush_diff', 'drive_points_diff',\n",
       "       'total_yards_diff', 'def_st_td_diff', 'turnover_diff'],\n",
       "      dtype='object')"
      ]
     },
     "execution_count": 35,
     "metadata": {},
     "output_type": "execute_result"
    }
   ],
   "source": [
    "df.columns"
   ]
  },
  {
   "cell_type": "code",
   "execution_count": null,
   "metadata": {},
   "outputs": [],
   "source": []
  },
  {
   "cell_type": "code",
   "execution_count": null,
   "metadata": {},
   "outputs": [],
   "source": []
  },
  {
   "cell_type": "code",
   "execution_count": 46,
   "metadata": {},
   "outputs": [],
   "source": []
  },
  {
   "cell_type": "code",
   "execution_count": null,
   "metadata": {},
   "outputs": [],
   "source": []
  },
  {
   "cell_type": "code",
   "execution_count": null,
   "metadata": {},
   "outputs": [],
   "source": []
  },
  {
   "cell_type": "code",
   "execution_count": null,
   "metadata": {},
   "outputs": [],
   "source": []
  }
 ],
 "metadata": {
  "kernelspec": {
   "display_name": "Python 3",
   "language": "python",
   "name": "python3"
  },
  "language_info": {
   "codemirror_mode": {
    "name": "ipython",
    "version": 3
   },
   "file_extension": ".py",
   "mimetype": "text/x-python",
   "name": "python",
   "nbconvert_exporter": "python",
   "pygments_lexer": "ipython3",
   "version": "3.6.8"
  }
 },
 "nbformat": 4,
 "nbformat_minor": 2
}
