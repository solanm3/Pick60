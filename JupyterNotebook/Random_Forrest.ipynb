{
 "cells": [
  {
   "cell_type": "code",
   "execution_count": 2,
   "metadata": {},
   "outputs": [],
   "source": [
    "import pandas as pd\n",
    "import numpy as np\n",
    "import matplotlib.pyplot as plt\n",
    "import datetime\n",
    "import warnings\n",
    "import statsmodels.api as sm\n",
    "from sklearn.calibration import calibration_curve\n",
    "from sklearn import preprocessing, svm, linear_model, model_selection\n",
    "from sklearn.model_selection import learning_curve, cross_validate, ShuffleSplit, train_test_split\n",
    "from matplotlib import pyplot\n",
    "\n",
    "warnings.filterwarnings('ignore')"
   ]
  },
  {
   "cell_type": "code",
   "execution_count": 5,
   "metadata": {},
   "outputs": [],
   "source": [
    "pred_set = pd.read_csv('gamesDiffs.csv')\n",
    "df = pd.read_csv('NFLdataset.csv')"
   ]
  },
  {
   "cell_type": "code",
   "execution_count": 6,
   "metadata": {},
   "outputs": [],
   "source": [
    "train_set = df.loc[df['date'] > '2014-08-03']\n",
    "train_set = train_set.loc[train_set['date'] < '2018-08-03']\n",
    "\n",
    "# Map win/loss to 1/0\n",
    "train_set['home_result'] = train_set['home_result'].map({'Win': 1, 'Loss': 0})\n",
    "\n",
    "# Calculate passing yardage differential\n",
    "train_set['yppa_diff'] = train_set['yppa_home'] - train_set['yppa_away']\n",
    "\n",
    "# Calculate rushing yardage differential\n",
    "train_set['rush_diff'] = train_set['rush_home'] - train_set['rush_away']\n",
    "\n",
    "# Calculate drive point differential\n",
    "train_set['drive_points_diff'] = train_set['drive_points_home'] - train_set['drive_points_away']\n",
    "\n",
    "# Calculate drive point differential\n",
    "train_set['turnover_diff'] = train_set['turnovers_home'] - train_set['turnovers_away']\n",
    "\n",
    "# Calculate sack_times differential\n",
    "train_set['sack_times_diff'] = train_set['sack_times_home'] - train_set['sack_times_away']\n",
    "\n",
    "# Calculate sack_yards differential\n",
    "train_set['sack_yards_diff'] = train_set['sack_yards_home'] - train_set['sack_yards_away']\n",
    "\n",
    "train_set.rename(columns = {'home_result':'game_result'}, inplace = True)"
   ]
  },
  {
   "cell_type": "code",
   "execution_count": 7,
   "metadata": {},
   "outputs": [],
   "source": [
    "from sklearn.model_selection import GridSearchCV\n",
    "from sklearn.ensemble import RandomForestRegressor"
   ]
  },
  {
   "cell_type": "code",
   "execution_count": 8,
   "metadata": {},
   "outputs": [],
   "source": [
    "pred_set.rename(columns = {'d_p_diff':'drive_points_diff'}, inplace = True)\n",
    "pred_set.rename(columns = {'turn_diff':'turnover_diff'}, inplace = True)\n",
    "pred_set.rename(columns = {'sack_t_diff':'sack_times_diff'}, inplace = True)\n",
    "pred_set.rename(columns = {'sack_y_diff':'sack_yards_diff'}, inplace = True)"
   ]
  },
  {
   "cell_type": "code",
   "execution_count": 9,
   "metadata": {},
   "outputs": [],
   "source": [
    "train_set = train_set[['season', 'week', 'home', 'away', 'game_result', 'yppa_diff', 'rush_diff', 'drive_points_diff', 'turnover_diff', 'sack_yards_diff', 'sack_times_diff']]"
   ]
  },
  {
   "cell_type": "code",
   "execution_count": 10,
   "metadata": {},
   "outputs": [],
   "source": [
    "home_columns = {'date', 'season', 'week', 'home', 'sack_times_home', 'sack_yards_home', 'turnovers_home', 'score_home', 'yppa_home', 'rush_home', 'drive_points_home'}\n",
    "away_columns = {'date', 'season', 'week', 'away', 'sack_times_away', 'sack_yards_away',  'turnovers_away', 'score_away', 'yppa_away', 'rush_away', 'drive_points_away'}\n",
    "\n",
    "\n",
    "# Mappings to combine Home & Away columns\n",
    "home_cols = {'week': 'week', 'home':'team', 'sack_times_home':'sack_times', 'sack_yards_home':'sack_yards', 'turnovers_home':'turnovers', 'score_home':'score', 'yppa_home':'yppa', 'rush_home':'rush', 'drive_points_home':'drive_points', 'game_result' : 'game_result'}\n",
    "away_cols = {'week': 'week', 'away':'team', 'sack_times_away':'sack_times', 'sack_yards_away':'sack_yards', 'turnovers_away':'turnovers', 'score_away':'score', 'yppa_away':'yppa', 'rush_away':'rush', 'drive_points_away':'drive_points', 'game_result' : 'game_result'}"
   ]
  },
  {
   "cell_type": "code",
   "execution_count": 11,
   "metadata": {},
   "outputs": [],
   "source": [
    "home = df.loc[:, home_columns]\n",
    "away = df.loc[:, away_columns]"
   ]
  },
  {
   "cell_type": "code",
   "execution_count": 12,
   "metadata": {},
   "outputs": [],
   "source": [
    "#display(homeDF)\n",
    "away.rename(columns=away_cols,inplace=True)\n",
    "home.rename(columns=home_cols,inplace=True)"
   ]
  },
  {
   "cell_type": "code",
   "execution_count": 14,
   "metadata": {},
   "outputs": [],
   "source": [
    "from sklearn.model_selection import GridSearchCV\n",
    "a = {\n",
    "    \"max_feature\": [2, 10, 'auto'],\n",
    "    \"n_estimators\": [100,],\n",
    "    \"criterion\": [\"gini\", \"entropy\"],\n",
    "    \"min_samples_leaf\": [2, 4, 6],\n",
    "}"
   ]
  },
  {
   "cell_type": "code",
   "execution_count": 20,
   "metadata": {},
   "outputs": [
    {
     "ename": "NameError",
     "evalue": "name 'train_features' is not defined",
     "output_type": "error",
     "traceback": [
      "\u001b[0;31m---------------------------------------------------------------------------\u001b[0m",
      "\u001b[0;31mNameError\u001b[0m                                 Traceback (most recent call last)",
      "\u001b[0;32m<ipython-input-20-46e953ee7539>\u001b[0m in \u001b[0;36m<module>\u001b[0;34m\u001b[0m\n\u001b[1;32m      2\u001b[0m \u001b[0mrf\u001b[0m \u001b[0;34m=\u001b[0m \u001b[0mRandomForestRegressor\u001b[0m\u001b[0;34m(\u001b[0m\u001b[0mn_estimators\u001b[0m \u001b[0;34m=\u001b[0m \u001b[0;36m1000\u001b[0m\u001b[0;34m,\u001b[0m \u001b[0mrandom_state\u001b[0m \u001b[0;34m=\u001b[0m \u001b[0;36m42\u001b[0m\u001b[0;34m)\u001b[0m\u001b[0;34m\u001b[0m\u001b[0;34m\u001b[0m\u001b[0m\n\u001b[1;32m      3\u001b[0m \u001b[0;34m\u001b[0m\u001b[0m\n\u001b[0;32m----> 4\u001b[0;31m \u001b[0mrf\u001b[0m\u001b[0;34m.\u001b[0m\u001b[0mfit\u001b[0m\u001b[0;34m(\u001b[0m\u001b[0mtrain_features\u001b[0m\u001b[0;34m,\u001b[0m \u001b[0mtrain_labels\u001b[0m\u001b[0;34m)\u001b[0m\u001b[0;34m;\u001b[0m\u001b[0;34m\u001b[0m\u001b[0;34m\u001b[0m\u001b[0m\n\u001b[0m",
      "\u001b[0;31mNameError\u001b[0m: name 'train_features' is not defined"
     ]
    }
   ],
   "source": [
    "from sklearn.ensemble import RandomForestRegressor\n",
    "rf = RandomForestRegressor(n_estimators = 1000, random_state = 42)\n",
    "\n",
    "rf.fit(train_features, train_labels);"
   ]
  },
  {
   "cell_type": "code",
   "execution_count": null,
   "metadata": {},
   "outputs": [],
   "source": []
  }
 ],
 "metadata": {
  "kernelspec": {
   "display_name": "Python 3",
   "language": "python",
   "name": "python3"
  },
  "language_info": {
   "codemirror_mode": {
    "name": "ipython",
    "version": 3
   },
   "file_extension": ".py",
   "mimetype": "text/x-python",
   "name": "python",
   "nbconvert_exporter": "python",
   "pygments_lexer": "ipython3",
   "version": "3.6.8"
  }
 },
 "nbformat": 4,
 "nbformat_minor": 2
}
