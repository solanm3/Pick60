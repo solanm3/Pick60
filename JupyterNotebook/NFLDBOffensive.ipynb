{
 "cells": [
  {
   "cell_type": "code",
   "execution_count": 1,
   "metadata": {},
   "outputs": [],
   "source": [
    "import pandas \n",
    "import numpy\n",
    "df = pandas.read_csv('NFLdataset1.csv')"
   ]
  },
  {
   "cell_type": "code",
   "execution_count": 3,
   "metadata": {},
   "outputs": [],
   "source": [
    "import pandas as pd\n",
    "import numpy as np"
   ]
  },
  {
   "cell_type": "code",
   "execution_count": 4,
   "metadata": {},
   "outputs": [
    {
     "data": {
      "text/plain": [
       "['Unnamed: 0',\n",
       " 'date',\n",
       " 'away',\n",
       " 'home',\n",
       " 'first_downs_away',\n",
       " 'first_downs_home',\n",
       " 'third_downs_away',\n",
       " 'third_downs_home',\n",
       " 'fourth_downs_away',\n",
       " 'fourth_downs_home',\n",
       " 'passing_yards_away',\n",
       " 'passing_yards_home',\n",
       " 'rushing_yards_away',\n",
       " 'rushing_yards_home',\n",
       " 'total_yards_away',\n",
       " 'total_yards_home',\n",
       " 'comp_att_away',\n",
       " 'comp_att_home',\n",
       " 'sacks_away',\n",
       " 'sacks_home',\n",
       " 'rushing_attempts_away',\n",
       " 'rushing_attempts_home',\n",
       " 'fumbles_away',\n",
       " 'fumbles_home',\n",
       " 'int_away',\n",
       " 'int_home',\n",
       " 'turnovers_away',\n",
       " 'turnovers_home',\n",
       " 'penalties_away',\n",
       " 'penalties_home',\n",
       " 'redzone_away',\n",
       " 'redzone_home',\n",
       " 'drives_away',\n",
       " 'drives_home',\n",
       " 'def_st_td_away',\n",
       " 'def_st_td_home',\n",
       " 'possession_away',\n",
       " 'possession_home',\n",
       " 'score_away',\n",
       " 'score_home',\n",
       " 'Home_attempts_completed',\n",
       " 'Home_attempts',\n",
       " 'away_attempts_completed',\n",
       " 'away_attempts',\n",
       " 'YPPA_away',\n",
       " 'YPPA_home',\n",
       " 'Average_Yards_Per_Rush_Attempt_Home',\n",
       " 'Average_Yards_Per_Rush_Attempt_Away',\n",
       " 'Pts_Per_Drive_home',\n",
       " 'Pts_Per_Drive_away',\n",
       " 'Home_Result']"
      ]
     },
     "execution_count": 4,
     "metadata": {},
     "output_type": "execute_result"
    }
   ],
   "source": [
    "list(df.columns)"
   ]
  },
  {
   "cell_type": "code",
   "execution_count": 9,
   "metadata": {},
   "outputs": [],
   "source": [
    "df = df.drop(['Unnamed: 0',\n",
    " 'third_downs_away',\n",
    " 'third_downs_home',\n",
    " 'fourth_downs_away',\n",
    " 'fourth_downs_home',\n",
    " 'passing_yards_away',\n",
    " 'passing_yards_home',\n",
    " 'rushing_yards_away',\n",
    " 'rushing_yards_home',\n",
    " 'total_yards_away',\n",
    " 'total_yards_home',\n",
    " 'comp_att_away',\n",
    " 'comp_att_home',\n",
    " 'sacks_away',\n",
    " 'sacks_home',\n",
    " 'rushing_attempts_away',\n",
    " 'rushing_attempts_home',\n",
    " 'fumbles_away',\n",
    " 'fumbles_home',\n",
    " 'int_away',\n",
    " 'int_home',\n",
    " 'penalties_away',\n",
    " 'penalties_home',\n",
    " 'redzone_away',\n",
    " 'redzone_home',\n",
    " 'drives_away',\n",
    " 'drives_home',\n",
    " 'def_st_td_away',\n",
    " 'def_st_td_home',\n",
    " 'possession_away',\n",
    " 'possession_home',\n",
    " 'Home_attempts_completed',\n",
    " 'Home_attempts',\n",
    " 'away_attempts_completed',\n",
    " 'away_attempts'], axis = 1)"
   ]
  },
  {
   "cell_type": "code",
   "execution_count": 10,
   "metadata": {},
   "outputs": [
    {
     "data": {
      "text/plain": [
       "['date',\n",
       " 'away',\n",
       " 'home',\n",
       " 'first_downs_away',\n",
       " 'first_downs_home',\n",
       " 'turnovers_away',\n",
       " 'turnovers_home',\n",
       " 'score_away',\n",
       " 'score_home',\n",
       " 'YPPA_away',\n",
       " 'YPPA_home',\n",
       " 'Average_Yards_Per_Rush_Attempt_Home',\n",
       " 'Average_Yards_Per_Rush_Attempt_Away',\n",
       " 'Pts_Per_Drive_home',\n",
       " 'Pts_Per_Drive_away',\n",
       " 'Home_Result']"
      ]
     },
     "execution_count": 10,
     "metadata": {},
     "output_type": "execute_result"
    }
   ],
   "source": [
    "list(df.columns)"
   ]
  },
  {
   "cell_type": "code",
   "execution_count": 11,
   "metadata": {},
   "outputs": [],
   "source": [
    "df.to_csv(r'/home/johnd/Documents/NFLdatasetOffense.csv')"
   ]
  },
  {
   "cell_type": "code",
   "execution_count": 12,
   "metadata": {},
   "outputs": [
    {
     "ename": "NameError",
     "evalue": "name 'total' is not defined",
     "output_type": "error",
     "traceback": [
      "\u001b[0;31m---------------------------------------------------------------------------\u001b[0m",
      "\u001b[0;31mNameError\u001b[0m                                 Traceback (most recent call last)",
      "\u001b[0;32m<ipython-input-12-3ca725c3c18e>\u001b[0m in \u001b[0;36m<module>\u001b[0;34m\u001b[0m\n\u001b[0;32m----> 1\u001b[0;31m \u001b[0mteam_list\u001b[0m \u001b[0;34m=\u001b[0m \u001b[0mtotal\u001b[0m\u001b[0;34m[\u001b[0m\u001b[0;34m'team'\u001b[0m\u001b[0;34m]\u001b[0m\u001b[0;34m.\u001b[0m\u001b[0munique\u001b[0m\u001b[0;34m\u001b[0m\u001b[0;34m\u001b[0m\u001b[0m\n\u001b[0m",
      "\u001b[0;31mNameError\u001b[0m: name 'total' is not defined"
     ]
    }
   ],
   "source": []
  },
  {
   "cell_type": "code",
   "execution_count": 2,
   "metadata": {},
   "outputs": [],
   "source": [
    "home_columns = {'home', 'first_downs_home', 'third_downs_home', 'fourth_downs_home', 'passing_yards_home', 'rushing_yards_home', 'total_yards_home', 'sacks_home', 'fumbles_home', 'int_home', 'turnovers_home', 'penalties_home', 'redzone_home', 'drives_home', 'def_st_td_home', 'home_poss', 'score_home', 'YPPA_home', 'rush_home', 'drive_points_home'}"
   ]
  },
  {
   "cell_type": "code",
   "execution_count": 3,
   "metadata": {},
   "outputs": [],
   "source": [
    "away_columns = {'away', 'first_downs_away', 'third_downs_away', 'fourth_downs_away', 'passing_yards_away', 'rushing_yards_away', 'total_yards_away', 'sacks_away', 'fumbles_away', 'int_away', 'turnovers_away', 'penalties_away', 'redzone_away', 'drives_away', 'def_st_td_away', 'home_poss', 'score_away', 'YPPA_away', 'rush_away', 'drive_points_away'}\n",
    "#print(predicting_set)"
   ]
  },
  {
   "cell_type": "code",
   "execution_count": 4,
   "metadata": {},
   "outputs": [],
   "source": [
    "home_cols = {'week': 'week', 'home':'team', 'first_downs_home':'first_downs', 'third_downs_home':'third_downs', 'fourth_downs_home':'fourth_down', 'passing_yards_home':'passing_yards', 'rushing_yards_home':'rushing_yards', 'total_yards_home':'total_yards', 'sacks_home':'sacks', 'fumbles_home':'fumbles', 'int_home':'int', 'turnovers_home':'turnovers', 'penalties_home':'penalties', 'redzone_home':'redzone', 'drives_home':'drives', 'def_st_td_home':'def_st_td', 'home_poss':'poss', 'score_home':'score', 'YPPA_home':'YPPA', 'rush_home':'rush', 'drive_points_home':'drive_points'}"
   ]
  },
  {
   "cell_type": "code",
   "execution_count": 5,
   "metadata": {},
   "outputs": [],
   "source": [
    "away_cols = {'week': 'week', 'away':'team', 'first_downs_away':'first_downs', 'third_downs_away':'third_downs', 'fourth_downs_away':'fourth_down', 'passing_yards_away':'passing_yards', 'rushing_yards_away':'rushing_yards', 'total_yards_away':'total_yards', 'sacks_away':'sacks', 'fumbles_away':'fumbles', 'int_away':'int', 'turnovers_away':'turnovers', 'penalties_away':'penalties', 'redzone_away':'redzone', 'drives_away':'drives', 'def_st_td_away':'def_st_td', 'away_poss':'poss', 'score_away':'score', 'YPPA_away':'YPPA', 'rush_away':'rush', 'drive_points_away':'drive_points'}"
   ]
  },
  {
   "cell_type": "code",
   "execution_count": 6,
   "metadata": {},
   "outputs": [
    {
     "ename": "NameError",
     "evalue": "name 'predicting_set' is not defined",
     "output_type": "error",
     "traceback": [
      "\u001b[0;31m---------------------------------------------------------------------------\u001b[0m",
      "\u001b[0;31mNameError\u001b[0m                                 Traceback (most recent call last)",
      "\u001b[0;32m<ipython-input-6-efc345135667>\u001b[0m in \u001b[0;36m<module>\u001b[0;34m\u001b[0m\n\u001b[0;32m----> 1\u001b[0;31m \u001b[0maway_score\u001b[0m \u001b[0;34m=\u001b[0m \u001b[0mpredicting_set\u001b[0m\u001b[0;34m[\u001b[0m\u001b[0;34m[\u001b[0m\u001b[0;34m'away_score'\u001b[0m\u001b[0;34m,\u001b[0m\u001b[0;34m'week'\u001b[0m\u001b[0;34m]\u001b[0m\u001b[0;34m]\u001b[0m\u001b[0;34m\u001b[0m\u001b[0;34m\u001b[0m\u001b[0m\n\u001b[0m\u001b[1;32m      2\u001b[0m \u001b[0mhome_score\u001b[0m \u001b[0;34m=\u001b[0m \u001b[0mpredicting_set\u001b[0m\u001b[0;34m[\u001b[0m\u001b[0;34m[\u001b[0m\u001b[0;34m'home_score'\u001b[0m\u001b[0;34m,\u001b[0m\u001b[0;34m'week'\u001b[0m\u001b[0;34m]\u001b[0m\u001b[0;34m]\u001b[0m\u001b[0;34m\u001b[0m\u001b[0;34m\u001b[0m\u001b[0m\n",
      "\u001b[0;31mNameError\u001b[0m: name 'predicting_set' is not defined"
     ]
    }
   ],
   "source": [
    "away_score = predicting_set[['away_score','week']]\n",
    "home_score = predicting_set[['home_score','week']]\n"
   ]
  },
  {
   "cell_type": "code",
   "execution_count": 7,
   "metadata": {},
   "outputs": [
    {
     "ename": "NameError",
     "evalue": "name 'df' is not defined",
     "output_type": "error",
     "traceback": [
      "\u001b[0;31m---------------------------------------------------------------------------\u001b[0m",
      "\u001b[0;31mNameError\u001b[0m                                 Traceback (most recent call last)",
      "\u001b[0;32m<ipython-input-7-c9033fe74bb5>\u001b[0m in \u001b[0;36m<module>\u001b[0;34m\u001b[0m\n\u001b[0;32m----> 1\u001b[0;31m \u001b[0mpredicting_set\u001b[0m \u001b[0;34m=\u001b[0m \u001b[0mdf\u001b[0m\u001b[0;34m[\u001b[0m\u001b[0mdf\u001b[0m\u001b[0;34m.\u001b[0m\u001b[0mgame_date\u001b[0m \u001b[0;34m>=\u001b[0m \u001b[0mcutoff_date\u001b[0m\u001b[0;34m]\u001b[0m\u001b[0;34m.\u001b[0m\u001b[0mset_index\u001b[0m\u001b[0;34m(\u001b[0m\u001b[0;34m'game_date'\u001b[0m\u001b[0;34m)\u001b[0m\u001b[0;34m\u001b[0m\u001b[0;34m\u001b[0m\u001b[0m\n\u001b[0m\u001b[1;32m      2\u001b[0m \u001b[0mpredicting_set\u001b[0m \u001b[0;34m=\u001b[0m \u001b[0mpredicting_set\u001b[0m\u001b[0;34m.\u001b[0m\u001b[0msort_index\u001b[0m\u001b[0;34m(\u001b[0m\u001b[0;34m)\u001b[0m    \u001b[0;31m# Sort ascending by index\u001b[0m\u001b[0;34m\u001b[0m\u001b[0;34m\u001b[0m\u001b[0m\n\u001b[1;32m      3\u001b[0m \u001b[0mpredicting_set\u001b[0m\u001b[0;34m[\u001b[0m\u001b[0;34m'week'\u001b[0m\u001b[0;34m]\u001b[0m \u001b[0;34m=\u001b[0m \u001b[0mnp\u001b[0m\u001b[0;34m.\u001b[0m\u001b[0mnan\u001b[0m\u001b[0;34m\u001b[0m\u001b[0;34m\u001b[0m\u001b[0m\n",
      "\u001b[0;31mNameError\u001b[0m: name 'df' is not defined"
     ]
    }
   ],
   "source": [
    "predicting_set = df[df.game_date >= cutoff_date].set_index('game_date')\n",
    "predicting_set = predicting_set.sort_index()    # Sort ascending by index\n",
    "predicting_set['week'] = np.nan"
   ]
  }
 ],
 "metadata": {
  "kernelspec": {
   "display_name": "Python 3",
   "language": "python",
   "name": "python3"
  },
  "language_info": {
   "codemirror_mode": {
    "name": "ipython",
    "version": 3
   },
   "file_extension": ".py",
   "mimetype": "text/x-python",
   "name": "python",
   "nbconvert_exporter": "python",
   "pygments_lexer": "ipython3",
   "version": "3.6.8"
  }
 },
 "nbformat": 4,
 "nbformat_minor": 2
}
