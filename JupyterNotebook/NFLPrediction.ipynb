{
 "cells": [
  {
   "cell_type": "code",
   "execution_count": 2,
   "metadata": {},
   "outputs": [],
   "source": [
    "import pandas as pd\n",
    "import numpy as np"
   ]
  },
  {
   "cell_type": "code",
   "execution_count": 3,
   "metadata": {},
   "outputs": [],
   "source": [
    "import seaborn as sns\n"
   ]
  },
  {
   "cell_type": "code",
   "execution_count": 4,
   "metadata": {},
   "outputs": [],
   "source": [
    "import matplotlib.pyplot as plt"
   ]
  },
  {
   "cell_type": "code",
   "execution_count": 5,
   "metadata": {},
   "outputs": [],
   "source": [
    "import xgboost as xgb"
   ]
  },
  {
   "cell_type": "code",
   "execution_count": 6,
   "metadata": {},
   "outputs": [],
   "source": [
    "from sklearn import metrics"
   ]
  },
  {
   "cell_type": "code",
   "execution_count": 7,
   "metadata": {},
   "outputs": [],
   "source": [
    "df = pd.read_csv('NFLdataset1.csv')"
   ]
  },
  {
   "cell_type": "code",
   "execution_count": 8,
   "metadata": {},
   "outputs": [
    {
     "name": "stdout",
     "output_type": "stream",
     "text": [
      "4628\n"
     ]
    }
   ],
   "source": [
    "print(len(df))"
   ]
  },
  {
   "cell_type": "code",
   "execution_count": 9,
   "metadata": {},
   "outputs": [
    {
     "name": "stdout",
     "output_type": "stream",
     "text": [
      "   Unnamed: 0        date      away     home  first_downs_away  \\\n",
      "0           0  2002-09-05     49ers   Giants                13   \n",
      "1           1  2002-09-08      Jets    Bills                18   \n",
      "2           2  2002-09-08   Vikings    Bears                19   \n",
      "3           3  2002-09-08  Chargers  Bengals                27   \n",
      "4           4  2002-09-08    Chiefs   Browns                24   \n",
      "\n",
      "   first_downs_home third_downs_away third_downs_home fourth_downs_away  \\\n",
      "0                21             4-12             9-16               0-0   \n",
      "1                26              2-8             7-17               0-0   \n",
      "2                20             5-13             7-13               0-0   \n",
      "3                13             6-10             4-11               0-0   \n",
      "4                24             5-11             4-11               0-0   \n",
      "\n",
      "  fourth_downs_home  ...  Home_attempts  away_attempts_completed  \\\n",
      "0               0-1  ...             45                       16   \n",
      "1               2-2  ...             39                       24   \n",
      "2               0-0  ...             33                       16   \n",
      "3               0-0  ...             31                       15   \n",
      "4               0-0  ...             40                       20   \n",
      "\n",
      "   away_attempts  YPPA_away  YPPA_home  Average_Yards_Per_Rush_Attempt_Home  \\\n",
      "0             26        6.4        7.1                                  2.0   \n",
      "1             30        6.4        6.2                                  4.4   \n",
      "2             28        8.1        8.7                                  3.1   \n",
      "3             19        8.4        5.4                                  2.8   \n",
      "4             29        9.5        8.8                                  3.0   \n",
      "\n",
      "  Average_Yards_Per_Rush_Attempt_Away Pts_Per_Drive_home Pts_Per_Drive_away  \\\n",
      "0                                 4.5               0.87               1.23   \n",
      "1                                 5.2               1.72               2.18   \n",
      "2                                 4.2               1.59               1.35   \n",
      "3                                 5.4               0.40               3.09   \n",
      "4                                 6.5               2.29               2.00   \n",
      "\n",
      "  Home_Result  \n",
      "0        Loss  \n",
      "1        Loss  \n",
      "2         Win  \n",
      "3        Loss  \n",
      "4        Loss  \n",
      "\n",
      "[5 rows x 51 columns]\n"
     ]
    }
   ],
   "source": [
    "print(df.head())"
   ]
  },
  {
   "cell_type": "code",
   "execution_count": 10,
   "metadata": {},
   "outputs": [],
   "source": [
    "import datetime"
   ]
  },
  {
   "cell_type": "code",
   "execution_count": 11,
   "metadata": {},
   "outputs": [],
   "source": [
    "from sklearn import preprocessing, svm, linear_model"
   ]
  },
  {
   "cell_type": "code",
   "execution_count": 12,
   "metadata": {},
   "outputs": [],
   "source": [
    "from sklearn.model_selection import cross_validate\n"
   ]
  },
  {
   "cell_type": "code",
   "execution_count": 13,
   "metadata": {},
   "outputs": [],
   "source": [
    "import matplotlib.pyplot as plt"
   ]
  },
  {
   "cell_type": "code",
   "execution_count": 14,
   "metadata": {},
   "outputs": [],
   "source": [
    "from sklearn.model_selection import learning_curve, GridSearchCV\n"
   ]
  },
  {
   "cell_type": "code",
   "execution_count": 15,
   "metadata": {},
   "outputs": [],
   "source": [
    "from sklearn.feature_selection import RFE, RFECV\n"
   ]
  },
  {
   "cell_type": "code",
   "execution_count": 16,
   "metadata": {},
   "outputs": [],
   "source": [
    "import pickle\n"
   ]
  },
  {
   "cell_type": "code",
   "execution_count": 17,
   "metadata": {},
   "outputs": [],
   "source": [
    "import os\n"
   ]
  },
  {
   "cell_type": "code",
   "execution_count": 18,
   "metadata": {},
   "outputs": [
    {
     "data": {
      "text/plain": [
       "0"
      ]
     },
     "execution_count": 18,
     "metadata": {},
     "output_type": "execute_result"
    }
   ],
   "source": [
    "os.system('clear')\n"
   ]
  },
  {
   "cell_type": "code",
   "execution_count": 19,
   "metadata": {},
   "outputs": [
    {
     "data": {
      "text/html": [
       "<div>\n",
       "<style scoped>\n",
       "    .dataframe tbody tr th:only-of-type {\n",
       "        vertical-align: middle;\n",
       "    }\n",
       "\n",
       "    .dataframe tbody tr th {\n",
       "        vertical-align: top;\n",
       "    }\n",
       "\n",
       "    .dataframe thead th {\n",
       "        text-align: right;\n",
       "    }\n",
       "</style>\n",
       "<table border=\"1\" class=\"dataframe\">\n",
       "  <thead>\n",
       "    <tr style=\"text-align: right;\">\n",
       "      <th></th>\n",
       "      <th>Unnamed: 0</th>\n",
       "      <th>date</th>\n",
       "      <th>away</th>\n",
       "      <th>home</th>\n",
       "      <th>first_downs_away</th>\n",
       "      <th>first_downs_home</th>\n",
       "      <th>third_downs_away</th>\n",
       "      <th>third_downs_home</th>\n",
       "      <th>fourth_downs_away</th>\n",
       "      <th>fourth_downs_home</th>\n",
       "      <th>...</th>\n",
       "      <th>Home_attempts</th>\n",
       "      <th>away_attempts_completed</th>\n",
       "      <th>away_attempts</th>\n",
       "      <th>YPPA_away</th>\n",
       "      <th>YPPA_home</th>\n",
       "      <th>Average_Yards_Per_Rush_Attempt_Home</th>\n",
       "      <th>Average_Yards_Per_Rush_Attempt_Away</th>\n",
       "      <th>Pts_Per_Drive_home</th>\n",
       "      <th>Pts_Per_Drive_away</th>\n",
       "      <th>Home_Result</th>\n",
       "    </tr>\n",
       "  </thead>\n",
       "  <tbody>\n",
       "    <tr>\n",
       "      <th>0</th>\n",
       "      <td>0</td>\n",
       "      <td>2002-09-05</td>\n",
       "      <td>49ers</td>\n",
       "      <td>Giants</td>\n",
       "      <td>13</td>\n",
       "      <td>21</td>\n",
       "      <td>4-12</td>\n",
       "      <td>9-16</td>\n",
       "      <td>0-0</td>\n",
       "      <td>0-1</td>\n",
       "      <td>...</td>\n",
       "      <td>45</td>\n",
       "      <td>16</td>\n",
       "      <td>26</td>\n",
       "      <td>6.4</td>\n",
       "      <td>7.1</td>\n",
       "      <td>2.0</td>\n",
       "      <td>4.5</td>\n",
       "      <td>0.87</td>\n",
       "      <td>1.23</td>\n",
       "      <td>Loss</td>\n",
       "    </tr>\n",
       "    <tr>\n",
       "      <th>1</th>\n",
       "      <td>1</td>\n",
       "      <td>2002-09-08</td>\n",
       "      <td>Jets</td>\n",
       "      <td>Bills</td>\n",
       "      <td>18</td>\n",
       "      <td>26</td>\n",
       "      <td>2-8</td>\n",
       "      <td>7-17</td>\n",
       "      <td>0-0</td>\n",
       "      <td>2-2</td>\n",
       "      <td>...</td>\n",
       "      <td>39</td>\n",
       "      <td>24</td>\n",
       "      <td>30</td>\n",
       "      <td>6.4</td>\n",
       "      <td>6.2</td>\n",
       "      <td>4.4</td>\n",
       "      <td>5.2</td>\n",
       "      <td>1.72</td>\n",
       "      <td>2.18</td>\n",
       "      <td>Loss</td>\n",
       "    </tr>\n",
       "    <tr>\n",
       "      <th>2</th>\n",
       "      <td>2</td>\n",
       "      <td>2002-09-08</td>\n",
       "      <td>Vikings</td>\n",
       "      <td>Bears</td>\n",
       "      <td>19</td>\n",
       "      <td>20</td>\n",
       "      <td>5-13</td>\n",
       "      <td>7-13</td>\n",
       "      <td>0-0</td>\n",
       "      <td>0-0</td>\n",
       "      <td>...</td>\n",
       "      <td>33</td>\n",
       "      <td>16</td>\n",
       "      <td>28</td>\n",
       "      <td>8.1</td>\n",
       "      <td>8.7</td>\n",
       "      <td>3.1</td>\n",
       "      <td>4.2</td>\n",
       "      <td>1.59</td>\n",
       "      <td>1.35</td>\n",
       "      <td>Win</td>\n",
       "    </tr>\n",
       "    <tr>\n",
       "      <th>3</th>\n",
       "      <td>3</td>\n",
       "      <td>2002-09-08</td>\n",
       "      <td>Chargers</td>\n",
       "      <td>Bengals</td>\n",
       "      <td>27</td>\n",
       "      <td>13</td>\n",
       "      <td>6-10</td>\n",
       "      <td>4-11</td>\n",
       "      <td>0-0</td>\n",
       "      <td>0-0</td>\n",
       "      <td>...</td>\n",
       "      <td>31</td>\n",
       "      <td>15</td>\n",
       "      <td>19</td>\n",
       "      <td>8.4</td>\n",
       "      <td>5.4</td>\n",
       "      <td>2.8</td>\n",
       "      <td>5.4</td>\n",
       "      <td>0.40</td>\n",
       "      <td>3.09</td>\n",
       "      <td>Loss</td>\n",
       "    </tr>\n",
       "    <tr>\n",
       "      <th>4</th>\n",
       "      <td>4</td>\n",
       "      <td>2002-09-08</td>\n",
       "      <td>Chiefs</td>\n",
       "      <td>Browns</td>\n",
       "      <td>24</td>\n",
       "      <td>24</td>\n",
       "      <td>5-11</td>\n",
       "      <td>4-11</td>\n",
       "      <td>0-0</td>\n",
       "      <td>0-0</td>\n",
       "      <td>...</td>\n",
       "      <td>40</td>\n",
       "      <td>20</td>\n",
       "      <td>29</td>\n",
       "      <td>9.5</td>\n",
       "      <td>8.8</td>\n",
       "      <td>3.0</td>\n",
       "      <td>6.5</td>\n",
       "      <td>2.29</td>\n",
       "      <td>2.00</td>\n",
       "      <td>Loss</td>\n",
       "    </tr>\n",
       "  </tbody>\n",
       "</table>\n",
       "<p>5 rows × 51 columns</p>\n",
       "</div>"
      ],
      "text/plain": [
       "   Unnamed: 0        date      away     home  first_downs_away  \\\n",
       "0           0  2002-09-05     49ers   Giants                13   \n",
       "1           1  2002-09-08      Jets    Bills                18   \n",
       "2           2  2002-09-08   Vikings    Bears                19   \n",
       "3           3  2002-09-08  Chargers  Bengals                27   \n",
       "4           4  2002-09-08    Chiefs   Browns                24   \n",
       "\n",
       "   first_downs_home third_downs_away third_downs_home fourth_downs_away  \\\n",
       "0                21             4-12             9-16               0-0   \n",
       "1                26              2-8             7-17               0-0   \n",
       "2                20             5-13             7-13               0-0   \n",
       "3                13             6-10             4-11               0-0   \n",
       "4                24             5-11             4-11               0-0   \n",
       "\n",
       "  fourth_downs_home  ...  Home_attempts  away_attempts_completed  \\\n",
       "0               0-1  ...             45                       16   \n",
       "1               2-2  ...             39                       24   \n",
       "2               0-0  ...             33                       16   \n",
       "3               0-0  ...             31                       15   \n",
       "4               0-0  ...             40                       20   \n",
       "\n",
       "   away_attempts  YPPA_away  YPPA_home  Average_Yards_Per_Rush_Attempt_Home  \\\n",
       "0             26        6.4        7.1                                  2.0   \n",
       "1             30        6.4        6.2                                  4.4   \n",
       "2             28        8.1        8.7                                  3.1   \n",
       "3             19        8.4        5.4                                  2.8   \n",
       "4             29        9.5        8.8                                  3.0   \n",
       "\n",
       "  Average_Yards_Per_Rush_Attempt_Away Pts_Per_Drive_home Pts_Per_Drive_away  \\\n",
       "0                                 4.5               0.87               1.23   \n",
       "1                                 5.2               1.72               2.18   \n",
       "2                                 4.2               1.59               1.35   \n",
       "3                                 5.4               0.40               3.09   \n",
       "4                                 6.5               2.29               2.00   \n",
       "\n",
       "  Home_Result  \n",
       "0        Loss  \n",
       "1        Loss  \n",
       "2         Win  \n",
       "3        Loss  \n",
       "4        Loss  \n",
       "\n",
       "[5 rows x 51 columns]"
      ]
     },
     "execution_count": 19,
     "metadata": {},
     "output_type": "execute_result"
    }
   ],
   "source": [
    "df.head()"
   ]
  },
  {
   "cell_type": "code",
   "execution_count": 20,
   "metadata": {},
   "outputs": [],
   "source": [
    "def plot_learning_curve(estimator, title, X, y, ylim=None, cv=None, n_jobs=1, train_sizes=np.linspace(.1, 1.0, 5)):\n",
    "    plt.figure()\n",
    "    plt.title(title)\n",
    "    if ylim is not None:\n",
    "        plt.ylim(*ylim)\n",
    "    plt.xlabel(\"Training examples\")\n",
    "    plt.ylabel(\"Score\")\n",
    "    train_sizes, train_scores, test_scores = learning_curve(\n",
    "        estimator, X, y, cv=cv, n_jobs=n_jobs, train_sizes=train_sizes)\n",
    "    train_scores_mean = np.mean(train_scores, axis=1)\n",
    "    train_scores_std = np.std(train_scores, axis=1)\n",
    "    test_scores_mean = np.mean(test_scores, axis=1)\n",
    "    test_scores_std = np.std(test_scores, axis=1)\n",
    "    plt.grid()\n",
    "\n",
    "    plt.fill_between(train_sizes, train_scores_mean - train_scores_std,\n",
    "                     train_scores_mean + train_scores_std, alpha=0.1,\n",
    "                     color=\"r\")\n",
    "    plt.fill_between(train_sizes, test_scores_mean - test_scores_std,\n",
    "                     test_scores_mean + test_scores_std, alpha=0.1, color=\"g\")\n",
    "    plt.plot(train_sizes, train_scores_mean, 'o-', color=\"r\",\n",
    "             label=\"Training score\")\n",
    "    plt.plot(train_sizes, test_scores_mean, 'o-', color=\"g\",\n",
    "             label=\"Cross-validation score\")\n",
    "\n",
    "    plt.legend(loc=\"best\")\n",
    "    return plt"
   ]
  },
  {
   "cell_type": "code",
   "execution_count": 21,
   "metadata": {},
   "outputs": [],
   "source": [
    "def print_full(x):\n",
    "    pd.set_option('display.max_rows', len(x))\n",
    "    print(x)\n",
    "    pd.reset_option('display.max_rows')"
   ]
  },
  {
   "cell_type": "code",
   "execution_count": 22,
   "metadata": {},
   "outputs": [],
   "source": [
    "def spread_conversion(x):\n",
    "    \"\"\"\n",
    "    http://www.bettingtalk.com/win-probability-percentage-point-spread-nfl-nba/\n",
    "    \"\"\"\n",
    "\n",
    "    home_dog = False\n",
    "    if x < 0.5:\n",
    "        x = 1.0 - x\n",
    "        home_dog = True\n",
    "\n",
    "    if x < .513:\n",
    "        return_val = -0.5\n",
    "    elif x < .525:\n",
    "        return_val = -1\n",
    "    elif x < .535:\n",
    "        return_val = -1.5\n",
    "    elif x < .545:\n",
    "        return_val = -2\n",
    "    elif x < .594:\n",
    "        return_val = -2.5\n",
    "    elif x < .643:\n",
    "        return_val = -3\n",
    "    elif x < .658:\n",
    "        return_val = -3.5\n",
    "    elif x < .673:\n",
    "        return_val = -4\n",
    "    elif x < .681:\n",
    "        return_val = -4.5\n",
    "    elif x < .69:\n",
    "        return_val = -5\n",
    "    elif x < .707:\n",
    "        return_val = -5.5\n",
    "    elif x < .724:\n",
    "        return_val = -6\n",
    "    elif x < .752:\n",
    "        return_val = -6.5\n",
    "    elif x < .781:\n",
    "        return_val = -7\n",
    "    elif x < .791:\n",
    "        return_val = -7.5\n",
    "    elif x < .802:\n",
    "        return_val = -8\n",
    "    elif x < .807:\n",
    "        return_val = -8.5\n",
    "    elif x < .811:\n",
    "        return_val = -9\n",
    "    elif x < .836:\n",
    "        return_val = -9.5\n",
    "    elif x < .86:\n",
    "        return_val = -10\n",
    "    elif x < .871:\n",
    "        return_val = -10.5\n",
    "    elif x < .882:\n",
    "        return_val = -11\n",
    "    elif x < .885:\n",
    "        return_val = -11.5\n",
    "    elif x < .887:\n",
    "        return_val = -12\n",
    "    elif x < .893:\n",
    "        return_val = -12.5\n",
    "    elif x < .9:\n",
    "        return_val = -13\n",
    "    elif x < .924:\n",
    "        return_val = -13.5\n",
    "    elif x < .949:\n",
    "        return_val = -14\n",
    "    elif x < .956:\n",
    "        return_val = -14.5\n",
    "    elif x < .963:\n",
    "        return_val = -15\n",
    "    elif x < .981:\n",
    "        return_val = -15.5\n",
    "    elif x < .998:\n",
    "        return_val = -16\n",
    "    else:\n",
    "        return_val = -16.5\n",
    "\n",
    "    if home_dog == True:\n",
    "        return float(-return_val)\n",
    "    else:\n",
    "        return float(return_val)\n",
    "\n",
    "C_vec = [0.0001, 0.0003, 0.0006, 0.001, 0.003, 0.006, 0.01, 0.03, 0.06, 0.1, 0.3, 0.6, 1.0, 3.0, 6.0, 10.0]\n",
    "prob_val = 0\n",
    "C_val = 0"
   ]
  },
  {
   "cell_type": "code",
   "execution_count": 23,
   "metadata": {},
   "outputs": [],
   "source": [
    "df = pd.read_csv('NFLdataset1.csv')\n"
   ]
  },
  {
   "cell_type": "code",
   "execution_count": 24,
   "metadata": {},
   "outputs": [],
   "source": [
    "scaling_cutoff_date = datetime.date(2018, 8, 1)\n",
    "cutoff_date = datetime.date(2019, 8, 1)"
   ]
  },
  {
   "cell_type": "code",
   "execution_count": 25,
   "metadata": {},
   "outputs": [],
   "source": [
    "df['game_date'] = pd.to_datetime(df['date'],format='%Y-%m-%d')\n"
   ]
  },
  {
   "cell_type": "code",
   "execution_count": 26,
   "metadata": {},
   "outputs": [
    {
     "name": "stderr",
     "output_type": "stream",
     "text": [
      "/home/johnd/.local/lib/python3.6/site-packages/ipykernel_launcher.py:1: FutureWarning: Comparing Series of datetimes with 'datetime.date'.  Currently, the\n",
      "'datetime.date' is coerced to a datetime. In the future pandas will\n",
      "not coerce, and a TypeError will be raised. To retain the current\n",
      "behavior, convert the 'datetime.date' to a datetime with\n",
      "'pd.Timestamp'.\n",
      "  \"\"\"Entry point for launching an IPython kernel.\n"
     ]
    }
   ],
   "source": [
    "predicting_set = df[df.game_date >= cutoff_date].set_index('game_date')\n",
    "predicting_set = predicting_set.sort_index()    # Sort ascending by index\n",
    "predicting_set['week'] = np.nan"
   ]
  },
  {
   "cell_type": "code",
   "execution_count": 27,
   "metadata": {},
   "outputs": [],
   "source": [
    "start_date = predicting_set.index.min().date()  # Find the first game date\n",
    "end_date = predicting_set.index.max().date()    # Find the last game date\n",
    "date_val = start_date                           # date_val is the value used to cycle through the datetime objects\n",
    "week_val = 1                                    # week_val is the iterating value that tracks the \"current\" week\n",
    "week_dict={}                                    # Create an empty dictionary\n",
    "# Cycle through the number of days\n",
    "for _ in range((end_date - start_date).days+1):\n",
    "    if date_val.weekday() == 1:                 # Check if the weekday value is a Tuesday\n",
    "        week_val += 1                           # Increment since I'm considering Tuesday to start a new week\n",
    "    week_dict[date_val] = week_val              # Update the dictionary value for the \"current\" date\n",
    "    date_val += datetime.timedelta(days=1)      # Increment date_val by one day\n",
    "# week_dict[datetime.date(2016,2,7)] = 21         # This is manually done since there are two weeks between conf championships and the final game\n"
   ]
  },
  {
   "cell_type": "code",
   "execution_count": 28,
   "metadata": {},
   "outputs": [],
   "source": [
    "predicting_set['week'].update(pd.Series(week_dict))"
   ]
  },
  {
   "cell_type": "code",
   "execution_count": 29,
   "metadata": {},
   "outputs": [],
   "source": [
    "del week_dict, start_date, end_date, date_val, week_val\n"
   ]
  },
  {
   "cell_type": "code",
   "execution_count": 30,
   "metadata": {},
   "outputs": [
    {
     "data": {
      "text/html": [
       "<div>\n",
       "<style scoped>\n",
       "    .dataframe tbody tr th:only-of-type {\n",
       "        vertical-align: middle;\n",
       "    }\n",
       "\n",
       "    .dataframe tbody tr th {\n",
       "        vertical-align: top;\n",
       "    }\n",
       "\n",
       "    .dataframe thead th {\n",
       "        text-align: right;\n",
       "    }\n",
       "</style>\n",
       "<table border=\"1\" class=\"dataframe\">\n",
       "  <thead>\n",
       "    <tr style=\"text-align: right;\">\n",
       "      <th></th>\n",
       "      <th>Unnamed: 0</th>\n",
       "      <th>date</th>\n",
       "      <th>away</th>\n",
       "      <th>home</th>\n",
       "      <th>first_downs_away</th>\n",
       "      <th>first_downs_home</th>\n",
       "      <th>third_downs_away</th>\n",
       "      <th>third_downs_home</th>\n",
       "      <th>fourth_downs_away</th>\n",
       "      <th>fourth_downs_home</th>\n",
       "      <th>...</th>\n",
       "      <th>away_attempts_completed</th>\n",
       "      <th>away_attempts</th>\n",
       "      <th>YPPA_away</th>\n",
       "      <th>YPPA_home</th>\n",
       "      <th>Average_Yards_Per_Rush_Attempt_Home</th>\n",
       "      <th>Average_Yards_Per_Rush_Attempt_Away</th>\n",
       "      <th>Pts_Per_Drive_home</th>\n",
       "      <th>Pts_Per_Drive_away</th>\n",
       "      <th>Home_Result</th>\n",
       "      <th>game_date</th>\n",
       "    </tr>\n",
       "  </thead>\n",
       "  <tbody>\n",
       "    <tr>\n",
       "      <th>0</th>\n",
       "      <td>0</td>\n",
       "      <td>2002-09-05</td>\n",
       "      <td>49ers</td>\n",
       "      <td>Giants</td>\n",
       "      <td>13</td>\n",
       "      <td>21</td>\n",
       "      <td>4-12</td>\n",
       "      <td>9-16</td>\n",
       "      <td>0-0</td>\n",
       "      <td>0-1</td>\n",
       "      <td>...</td>\n",
       "      <td>16</td>\n",
       "      <td>26</td>\n",
       "      <td>6.4</td>\n",
       "      <td>7.1</td>\n",
       "      <td>2.0</td>\n",
       "      <td>4.5</td>\n",
       "      <td>0.87</td>\n",
       "      <td>1.23</td>\n",
       "      <td>Loss</td>\n",
       "      <td>2002-09-05</td>\n",
       "    </tr>\n",
       "    <tr>\n",
       "      <th>1</th>\n",
       "      <td>1</td>\n",
       "      <td>2002-09-08</td>\n",
       "      <td>Jets</td>\n",
       "      <td>Bills</td>\n",
       "      <td>18</td>\n",
       "      <td>26</td>\n",
       "      <td>2-8</td>\n",
       "      <td>7-17</td>\n",
       "      <td>0-0</td>\n",
       "      <td>2-2</td>\n",
       "      <td>...</td>\n",
       "      <td>24</td>\n",
       "      <td>30</td>\n",
       "      <td>6.4</td>\n",
       "      <td>6.2</td>\n",
       "      <td>4.4</td>\n",
       "      <td>5.2</td>\n",
       "      <td>1.72</td>\n",
       "      <td>2.18</td>\n",
       "      <td>Loss</td>\n",
       "      <td>2002-09-08</td>\n",
       "    </tr>\n",
       "    <tr>\n",
       "      <th>2</th>\n",
       "      <td>2</td>\n",
       "      <td>2002-09-08</td>\n",
       "      <td>Vikings</td>\n",
       "      <td>Bears</td>\n",
       "      <td>19</td>\n",
       "      <td>20</td>\n",
       "      <td>5-13</td>\n",
       "      <td>7-13</td>\n",
       "      <td>0-0</td>\n",
       "      <td>0-0</td>\n",
       "      <td>...</td>\n",
       "      <td>16</td>\n",
       "      <td>28</td>\n",
       "      <td>8.1</td>\n",
       "      <td>8.7</td>\n",
       "      <td>3.1</td>\n",
       "      <td>4.2</td>\n",
       "      <td>1.59</td>\n",
       "      <td>1.35</td>\n",
       "      <td>Win</td>\n",
       "      <td>2002-09-08</td>\n",
       "    </tr>\n",
       "    <tr>\n",
       "      <th>3</th>\n",
       "      <td>3</td>\n",
       "      <td>2002-09-08</td>\n",
       "      <td>Chargers</td>\n",
       "      <td>Bengals</td>\n",
       "      <td>27</td>\n",
       "      <td>13</td>\n",
       "      <td>6-10</td>\n",
       "      <td>4-11</td>\n",
       "      <td>0-0</td>\n",
       "      <td>0-0</td>\n",
       "      <td>...</td>\n",
       "      <td>15</td>\n",
       "      <td>19</td>\n",
       "      <td>8.4</td>\n",
       "      <td>5.4</td>\n",
       "      <td>2.8</td>\n",
       "      <td>5.4</td>\n",
       "      <td>0.40</td>\n",
       "      <td>3.09</td>\n",
       "      <td>Loss</td>\n",
       "      <td>2002-09-08</td>\n",
       "    </tr>\n",
       "    <tr>\n",
       "      <th>4</th>\n",
       "      <td>4</td>\n",
       "      <td>2002-09-08</td>\n",
       "      <td>Chiefs</td>\n",
       "      <td>Browns</td>\n",
       "      <td>24</td>\n",
       "      <td>24</td>\n",
       "      <td>5-11</td>\n",
       "      <td>4-11</td>\n",
       "      <td>0-0</td>\n",
       "      <td>0-0</td>\n",
       "      <td>...</td>\n",
       "      <td>20</td>\n",
       "      <td>29</td>\n",
       "      <td>9.5</td>\n",
       "      <td>8.8</td>\n",
       "      <td>3.0</td>\n",
       "      <td>6.5</td>\n",
       "      <td>2.29</td>\n",
       "      <td>2.00</td>\n",
       "      <td>Loss</td>\n",
       "      <td>2002-09-08</td>\n",
       "    </tr>\n",
       "  </tbody>\n",
       "</table>\n",
       "<p>5 rows × 52 columns</p>\n",
       "</div>"
      ],
      "text/plain": [
       "   Unnamed: 0        date      away     home  first_downs_away  \\\n",
       "0           0  2002-09-05     49ers   Giants                13   \n",
       "1           1  2002-09-08      Jets    Bills                18   \n",
       "2           2  2002-09-08   Vikings    Bears                19   \n",
       "3           3  2002-09-08  Chargers  Bengals                27   \n",
       "4           4  2002-09-08    Chiefs   Browns                24   \n",
       "\n",
       "   first_downs_home third_downs_away third_downs_home fourth_downs_away  \\\n",
       "0                21             4-12             9-16               0-0   \n",
       "1                26              2-8             7-17               0-0   \n",
       "2                20             5-13             7-13               0-0   \n",
       "3                13             6-10             4-11               0-0   \n",
       "4                24             5-11             4-11               0-0   \n",
       "\n",
       "  fourth_downs_home  ...  away_attempts_completed  away_attempts  YPPA_away  \\\n",
       "0               0-1  ...                       16             26        6.4   \n",
       "1               2-2  ...                       24             30        6.4   \n",
       "2               0-0  ...                       16             28        8.1   \n",
       "3               0-0  ...                       15             19        8.4   \n",
       "4               0-0  ...                       20             29        9.5   \n",
       "\n",
       "   YPPA_home  Average_Yards_Per_Rush_Attempt_Home  \\\n",
       "0        7.1                                  2.0   \n",
       "1        6.2                                  4.4   \n",
       "2        8.7                                  3.1   \n",
       "3        5.4                                  2.8   \n",
       "4        8.8                                  3.0   \n",
       "\n",
       "   Average_Yards_Per_Rush_Attempt_Away Pts_Per_Drive_home Pts_Per_Drive_away  \\\n",
       "0                                  4.5               0.87               1.23   \n",
       "1                                  5.2               1.72               2.18   \n",
       "2                                  4.2               1.59               1.35   \n",
       "3                                  5.4               0.40               3.09   \n",
       "4                                  6.5               2.29               2.00   \n",
       "\n",
       "  Home_Result  game_date  \n",
       "0        Loss 2002-09-05  \n",
       "1        Loss 2002-09-08  \n",
       "2         Win 2002-09-08  \n",
       "3        Loss 2002-09-08  \n",
       "4        Loss 2002-09-08  \n",
       "\n",
       "[5 rows x 52 columns]"
      ]
     },
     "execution_count": 30,
     "metadata": {},
     "output_type": "execute_result"
    }
   ],
   "source": [
    "df.head()\n"
   ]
  },
  {
   "cell_type": "code",
   "execution_count": 31,
   "metadata": {},
   "outputs": [
    {
     "ename": "TypeError",
     "evalue": "'Index' object is not callable",
     "output_type": "error",
     "traceback": [
      "\u001b[0;31m---------------------------------------------------------------------------\u001b[0m",
      "\u001b[0;31mTypeError\u001b[0m                                 Traceback (most recent call last)",
      "\u001b[0;32m<ipython-input-31-ea942bf769f0>\u001b[0m in \u001b[0;36m<module>\u001b[0;34m\u001b[0m\n\u001b[0;32m----> 1\u001b[0;31m \u001b[0mdf\u001b[0m\u001b[0;34m.\u001b[0m\u001b[0mcolumns\u001b[0m\u001b[0;34m(\u001b[0m\u001b[0;34m)\u001b[0m\u001b[0;34m\u001b[0m\u001b[0;34m\u001b[0m\u001b[0m\n\u001b[0m",
      "\u001b[0;31mTypeError\u001b[0m: 'Index' object is not callable"
     ]
    }
   ],
   "source": [
    "df.columns()"
   ]
  },
  {
   "cell_type": "code",
   "execution_count": null,
   "metadata": {},
   "outputs": [],
   "source": [
    "home_columns = {'home', 'first_downs_home', 'third_downs_home', 'fourth_downs_home', 'passing_yards_home', 'rushing_yards_home', 'total_yards_home', 'sacks_home', 'fumbles_home', 'int_home', 'turnovers_home', 'penalties_home', 'redzone_home', 'drives_home', 'def_st_td_home', 'home_poss', 'score_home', 'YPPA_home', 'rush_home', 'drive_points_home'}"
   ]
  },
  {
   "cell_type": "code",
   "execution_count": null,
   "metadata": {},
   "outputs": [],
   "source": [
    "away_columns = {'away', 'first_downs_away', 'third_downs_away', 'fourth_downs_away', 'passing_yards_away', 'rushing_yards_away', 'total_yards_away', 'sacks_away', 'fumbles_away', 'int_away', 'turnovers_away', 'penalties_away', 'redzone_away', 'drives_away', 'def_st_td_away', 'home_poss', 'score_away', 'YPPA_away', 'rush_away', 'drive_points_away'}"
   ]
  },
  {
   "cell_type": "code",
   "execution_count": 35,
   "metadata": {},
   "outputs": [],
   "source": [
    "home_cols = {'week': 'week', 'home':'team', 'first_downs_home':'first_downs', 'third_downs_home':'third_downs', 'fourth_downs_home':'fourth_down', 'passing_yards_home':'passing_yards', 'rushing_yards_home':'rushing_yards', 'total_yards_home':'total_yards', 'sacks_home':'sacks', 'fumbles_home':'fumbles', 'int_home':'int', 'turnovers_home':'turnovers', 'penalties_home':'penalties', 'redzone_home':'redzone', 'drives_home':'drives', 'def_st_td_home':'def_st_td', 'home_poss':'poss', 'score_home':'score', 'YPPA_home':'YPPA', 'rush_home':'rush', 'drive_points_home':'drive_points'}"
   ]
  },
  {
   "cell_type": "code",
   "execution_count": 36,
   "metadata": {},
   "outputs": [],
   "source": [
    "away_cols = {'week': 'week', 'away':'team', 'first_downs_away':'first_downs', 'third_downs_away':'third_downs', 'fourth_downs_away':'fourth_down', 'passing_yards_away':'passing_yards', 'rushing_yards_away':'rushing_yards', 'total_yards_away':'total_yards', 'sacks_away':'sacks', 'fumbles_away':'fumbles', 'int_away':'int', 'turnovers_away':'turnovers', 'penalties_away':'penalties', 'redzone_away':'redzone', 'drives_away':'drives', 'def_st_td_away':'def_st_td', 'away_poss':'poss', 'score_away':'score', 'YPPA_away':'YPPA', 'rush_away':'rush', 'drive_points_away':'drive_points'}"
   ]
  },
  {
   "cell_type": "code",
   "execution_count": 37,
   "metadata": {},
   "outputs": [
    {
     "ename": "KeyError",
     "evalue": "\"['home_poss' 'rush_home' 'drive_points_home'] not found in axis\"",
     "output_type": "error",
     "traceback": [
      "\u001b[0;31m---------------------------------------------------------------------------\u001b[0m",
      "\u001b[0;31mKeyError\u001b[0m                                  Traceback (most recent call last)",
      "\u001b[0;32m<ipython-input-37-036023cabdcb>\u001b[0m in \u001b[0;36m<module>\u001b[0;34m\u001b[0m\n\u001b[0;32m----> 1\u001b[0;31m \u001b[0maway\u001b[0m \u001b[0;34m=\u001b[0m \u001b[0mpredicting_set\u001b[0m\u001b[0;34m.\u001b[0m\u001b[0mdrop\u001b[0m\u001b[0;34m(\u001b[0m\u001b[0mhome_cols\u001b[0m\u001b[0;34m,\u001b[0m\u001b[0maxis\u001b[0m\u001b[0;34m=\u001b[0m\u001b[0;36m1\u001b[0m\u001b[0;34m)\u001b[0m\u001b[0;34m\u001b[0m\u001b[0;34m\u001b[0m\u001b[0m\n\u001b[0m\u001b[1;32m      2\u001b[0m \u001b[0mhome\u001b[0m \u001b[0;34m=\u001b[0m \u001b[0mpredicting_set\u001b[0m\u001b[0;34m.\u001b[0m\u001b[0mdrop\u001b[0m\u001b[0;34m(\u001b[0m\u001b[0maway_cols\u001b[0m\u001b[0;34m,\u001b[0m\u001b[0maxis\u001b[0m\u001b[0;34m=\u001b[0m\u001b[0;36m1\u001b[0m\u001b[0;34m)\u001b[0m\u001b[0;34m\u001b[0m\u001b[0;34m\u001b[0m\u001b[0m\n\u001b[1;32m      3\u001b[0m \u001b[0maway\u001b[0m\u001b[0;34m.\u001b[0m\u001b[0mdrop\u001b[0m\u001b[0;34m(\u001b[0m\u001b[0;34m'apass_tot'\u001b[0m\u001b[0;34m,\u001b[0m\u001b[0maxis\u001b[0m\u001b[0;34m=\u001b[0m\u001b[0;36m1\u001b[0m\u001b[0;34m,\u001b[0m\u001b[0minplace\u001b[0m\u001b[0;34m=\u001b[0m\u001b[0;32mTrue\u001b[0m\u001b[0;34m)\u001b[0m\u001b[0;34m\u001b[0m\u001b[0;34m\u001b[0m\u001b[0m\n\u001b[1;32m      4\u001b[0m \u001b[0maway\u001b[0m\u001b[0;34m.\u001b[0m\u001b[0mdrop\u001b[0m\u001b[0;34m(\u001b[0m\u001b[0;34m'arush_att'\u001b[0m\u001b[0;34m,\u001b[0m\u001b[0maxis\u001b[0m\u001b[0;34m=\u001b[0m\u001b[0;36m1\u001b[0m\u001b[0;34m,\u001b[0m\u001b[0minplace\u001b[0m\u001b[0;34m=\u001b[0m\u001b[0;32mTrue\u001b[0m\u001b[0;34m)\u001b[0m\u001b[0;34m\u001b[0m\u001b[0;34m\u001b[0m\u001b[0m\n\u001b[1;32m      5\u001b[0m \u001b[0maway\u001b[0m\u001b[0;34m.\u001b[0m\u001b[0mdrop\u001b[0m\u001b[0;34m(\u001b[0m\u001b[0;34m'away_oyds'\u001b[0m\u001b[0;34m,\u001b[0m\u001b[0maxis\u001b[0m\u001b[0;34m=\u001b[0m\u001b[0;36m1\u001b[0m\u001b[0;34m,\u001b[0m\u001b[0minplace\u001b[0m\u001b[0;34m=\u001b[0m\u001b[0;32mTrue\u001b[0m\u001b[0;34m)\u001b[0m\u001b[0;34m\u001b[0m\u001b[0;34m\u001b[0m\u001b[0m\n",
      "\u001b[0;32m~/.local/lib/python3.6/site-packages/pandas/core/frame.py\u001b[0m in \u001b[0;36mdrop\u001b[0;34m(self, labels, axis, index, columns, level, inplace, errors)\u001b[0m\n\u001b[1;32m   4115\u001b[0m             \u001b[0mlevel\u001b[0m\u001b[0;34m=\u001b[0m\u001b[0mlevel\u001b[0m\u001b[0;34m,\u001b[0m\u001b[0;34m\u001b[0m\u001b[0;34m\u001b[0m\u001b[0m\n\u001b[1;32m   4116\u001b[0m             \u001b[0minplace\u001b[0m\u001b[0;34m=\u001b[0m\u001b[0minplace\u001b[0m\u001b[0;34m,\u001b[0m\u001b[0;34m\u001b[0m\u001b[0;34m\u001b[0m\u001b[0m\n\u001b[0;32m-> 4117\u001b[0;31m             \u001b[0merrors\u001b[0m\u001b[0;34m=\u001b[0m\u001b[0merrors\u001b[0m\u001b[0;34m,\u001b[0m\u001b[0;34m\u001b[0m\u001b[0;34m\u001b[0m\u001b[0m\n\u001b[0m\u001b[1;32m   4118\u001b[0m         )\n\u001b[1;32m   4119\u001b[0m \u001b[0;34m\u001b[0m\u001b[0m\n",
      "\u001b[0;32m~/.local/lib/python3.6/site-packages/pandas/core/generic.py\u001b[0m in \u001b[0;36mdrop\u001b[0;34m(self, labels, axis, index, columns, level, inplace, errors)\u001b[0m\n\u001b[1;32m   3912\u001b[0m         \u001b[0;32mfor\u001b[0m \u001b[0maxis\u001b[0m\u001b[0;34m,\u001b[0m \u001b[0mlabels\u001b[0m \u001b[0;32min\u001b[0m \u001b[0maxes\u001b[0m\u001b[0;34m.\u001b[0m\u001b[0mitems\u001b[0m\u001b[0;34m(\u001b[0m\u001b[0;34m)\u001b[0m\u001b[0;34m:\u001b[0m\u001b[0;34m\u001b[0m\u001b[0;34m\u001b[0m\u001b[0m\n\u001b[1;32m   3913\u001b[0m             \u001b[0;32mif\u001b[0m \u001b[0mlabels\u001b[0m \u001b[0;32mis\u001b[0m \u001b[0;32mnot\u001b[0m \u001b[0;32mNone\u001b[0m\u001b[0;34m:\u001b[0m\u001b[0;34m\u001b[0m\u001b[0;34m\u001b[0m\u001b[0m\n\u001b[0;32m-> 3914\u001b[0;31m                 \u001b[0mobj\u001b[0m \u001b[0;34m=\u001b[0m \u001b[0mobj\u001b[0m\u001b[0;34m.\u001b[0m\u001b[0m_drop_axis\u001b[0m\u001b[0;34m(\u001b[0m\u001b[0mlabels\u001b[0m\u001b[0;34m,\u001b[0m \u001b[0maxis\u001b[0m\u001b[0;34m,\u001b[0m \u001b[0mlevel\u001b[0m\u001b[0;34m=\u001b[0m\u001b[0mlevel\u001b[0m\u001b[0;34m,\u001b[0m \u001b[0merrors\u001b[0m\u001b[0;34m=\u001b[0m\u001b[0merrors\u001b[0m\u001b[0;34m)\u001b[0m\u001b[0;34m\u001b[0m\u001b[0;34m\u001b[0m\u001b[0m\n\u001b[0m\u001b[1;32m   3915\u001b[0m \u001b[0;34m\u001b[0m\u001b[0m\n\u001b[1;32m   3916\u001b[0m         \u001b[0;32mif\u001b[0m \u001b[0minplace\u001b[0m\u001b[0;34m:\u001b[0m\u001b[0;34m\u001b[0m\u001b[0;34m\u001b[0m\u001b[0m\n",
      "\u001b[0;32m~/.local/lib/python3.6/site-packages/pandas/core/generic.py\u001b[0m in \u001b[0;36m_drop_axis\u001b[0;34m(self, labels, axis, level, errors)\u001b[0m\n\u001b[1;32m   3944\u001b[0m                 \u001b[0mnew_axis\u001b[0m \u001b[0;34m=\u001b[0m \u001b[0maxis\u001b[0m\u001b[0;34m.\u001b[0m\u001b[0mdrop\u001b[0m\u001b[0;34m(\u001b[0m\u001b[0mlabels\u001b[0m\u001b[0;34m,\u001b[0m \u001b[0mlevel\u001b[0m\u001b[0;34m=\u001b[0m\u001b[0mlevel\u001b[0m\u001b[0;34m,\u001b[0m \u001b[0merrors\u001b[0m\u001b[0;34m=\u001b[0m\u001b[0merrors\u001b[0m\u001b[0;34m)\u001b[0m\u001b[0;34m\u001b[0m\u001b[0;34m\u001b[0m\u001b[0m\n\u001b[1;32m   3945\u001b[0m             \u001b[0;32melse\u001b[0m\u001b[0;34m:\u001b[0m\u001b[0;34m\u001b[0m\u001b[0;34m\u001b[0m\u001b[0m\n\u001b[0;32m-> 3946\u001b[0;31m                 \u001b[0mnew_axis\u001b[0m \u001b[0;34m=\u001b[0m \u001b[0maxis\u001b[0m\u001b[0;34m.\u001b[0m\u001b[0mdrop\u001b[0m\u001b[0;34m(\u001b[0m\u001b[0mlabels\u001b[0m\u001b[0;34m,\u001b[0m \u001b[0merrors\u001b[0m\u001b[0;34m=\u001b[0m\u001b[0merrors\u001b[0m\u001b[0;34m)\u001b[0m\u001b[0;34m\u001b[0m\u001b[0;34m\u001b[0m\u001b[0m\n\u001b[0m\u001b[1;32m   3947\u001b[0m             \u001b[0mresult\u001b[0m \u001b[0;34m=\u001b[0m \u001b[0mself\u001b[0m\u001b[0;34m.\u001b[0m\u001b[0mreindex\u001b[0m\u001b[0;34m(\u001b[0m\u001b[0;34m**\u001b[0m\u001b[0;34m{\u001b[0m\u001b[0maxis_name\u001b[0m\u001b[0;34m:\u001b[0m \u001b[0mnew_axis\u001b[0m\u001b[0;34m}\u001b[0m\u001b[0;34m)\u001b[0m\u001b[0;34m\u001b[0m\u001b[0;34m\u001b[0m\u001b[0m\n\u001b[1;32m   3948\u001b[0m \u001b[0;34m\u001b[0m\u001b[0m\n",
      "\u001b[0;32m~/.local/lib/python3.6/site-packages/pandas/core/indexes/base.py\u001b[0m in \u001b[0;36mdrop\u001b[0;34m(self, labels, errors)\u001b[0m\n\u001b[1;32m   5338\u001b[0m         \u001b[0;32mif\u001b[0m \u001b[0mmask\u001b[0m\u001b[0;34m.\u001b[0m\u001b[0many\u001b[0m\u001b[0;34m(\u001b[0m\u001b[0;34m)\u001b[0m\u001b[0;34m:\u001b[0m\u001b[0;34m\u001b[0m\u001b[0;34m\u001b[0m\u001b[0m\n\u001b[1;32m   5339\u001b[0m             \u001b[0;32mif\u001b[0m \u001b[0merrors\u001b[0m \u001b[0;34m!=\u001b[0m \u001b[0;34m\"ignore\"\u001b[0m\u001b[0;34m:\u001b[0m\u001b[0;34m\u001b[0m\u001b[0;34m\u001b[0m\u001b[0m\n\u001b[0;32m-> 5340\u001b[0;31m                 \u001b[0;32mraise\u001b[0m \u001b[0mKeyError\u001b[0m\u001b[0;34m(\u001b[0m\u001b[0;34m\"{} not found in axis\"\u001b[0m\u001b[0;34m.\u001b[0m\u001b[0mformat\u001b[0m\u001b[0;34m(\u001b[0m\u001b[0mlabels\u001b[0m\u001b[0;34m[\u001b[0m\u001b[0mmask\u001b[0m\u001b[0;34m]\u001b[0m\u001b[0;34m)\u001b[0m\u001b[0;34m)\u001b[0m\u001b[0;34m\u001b[0m\u001b[0;34m\u001b[0m\u001b[0m\n\u001b[0m\u001b[1;32m   5341\u001b[0m             \u001b[0mindexer\u001b[0m \u001b[0;34m=\u001b[0m \u001b[0mindexer\u001b[0m\u001b[0;34m[\u001b[0m\u001b[0;34m~\u001b[0m\u001b[0mmask\u001b[0m\u001b[0;34m]\u001b[0m\u001b[0;34m\u001b[0m\u001b[0;34m\u001b[0m\u001b[0m\n\u001b[1;32m   5342\u001b[0m         \u001b[0;32mreturn\u001b[0m \u001b[0mself\u001b[0m\u001b[0;34m.\u001b[0m\u001b[0mdelete\u001b[0m\u001b[0;34m(\u001b[0m\u001b[0mindexer\u001b[0m\u001b[0;34m)\u001b[0m\u001b[0;34m\u001b[0m\u001b[0;34m\u001b[0m\u001b[0m\n",
      "\u001b[0;31mKeyError\u001b[0m: \"['home_poss' 'rush_home' 'drive_points_home'] not found in axis\""
     ]
    }
   ],
   "source": []
  },
  {
   "cell_type": "code",
   "execution_count": null,
   "metadata": {},
   "outputs": [],
   "source": []
  }
 ],
 "metadata": {
  "kernelspec": {
   "display_name": "Python 3",
   "language": "python",
   "name": "python3"
  },
  "language_info": {
   "codemirror_mode": {
    "name": "ipython",
    "version": 3
   },
   "file_extension": ".py",
   "mimetype": "text/x-python",
   "name": "python",
   "nbconvert_exporter": "python",
   "pygments_lexer": "ipython3",
   "version": "3.6.8"
  }
 },
 "nbformat": 4,
 "nbformat_minor": 2
}
